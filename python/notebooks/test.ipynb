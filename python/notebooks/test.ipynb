{
 "cells": [
  {
   "cell_type": "code",
   "execution_count": 1,
   "id": "65c64fff",
   "metadata": {},
   "outputs": [],
   "source": [
    "import sys\n",
    "sys.path.append('..\\\\src\\\\')"
   ]
  },
  {
   "cell_type": "code",
   "execution_count": 2,
   "id": "ed9bcd18",
   "metadata": {},
   "outputs": [],
   "source": [
    "from odin_notebook import OdinNotebook"
   ]
  },
  {
   "cell_type": "code",
   "execution_count": 3,
   "id": "7c4eb979",
   "metadata": {},
   "outputs": [],
   "source": [
    "odin = OdinNotebook()\n",
    "adjacency_list = [\n",
    "    [1, 2],  # adjacent to vertex 0\n",
    "    [0, 2, 3],  # adjacent to vertex 1\n",
    "    [0, 1, 3],  # adjacent to vertex 2\n",
    "    [1, 2]  # adjacent to vertex 3\n",
    "]"
   ]
  },
  {
   "cell_type": "code",
   "execution_count": 4,
   "id": "00da990e",
   "metadata": {},
   "outputs": [
    {
     "data": {
      "text/html": [
       "<script>\n",
       "    requirejs.config({\n",
       "        paths: { \n",
       "            'd3': ['//cdnjs.cloudflare.com/ajax/libs/d3/4.13.0/d3.min'], \n",
       "        },                                         \n",
       "    });\n",
       "</script>\n",
       "\n",
       "<svg width=\"600\" height=\"600\"></svg>\n",
       "\n",
       "<script>\n",
       "require([\"d3\"], function(d3) {\n",
       "    let svg = d3.select(\"svg\");\n",
       "let width = svg.attr(\"width\");\n",
       "let height = svg.attr(\"height\");\n",
       "\n",
       "const jsonData = '{\"nodes\": [{\"name\": 0}, {\"name\": 1}, {\"name\": 2}, {\"name\": 3}], \"links\": [{\"source\": 0, \"target\": 1}, {\"source\": 0, \"target\": 2}, {\"source\": 1, \"target\": 0}, {\"source\": 1, \"target\": 2}, {\"source\": 1, \"target\": 3}, {\"source\": 2, \"target\": 0}, {\"source\": 2, \"target\": 1}, {\"source\": 2, \"target\": 3}, {\"source\": 3, \"target\": 1}, {\"source\": 3, \"target\": 2}]}';\n",
       "let graphData = JSON.parse(jsonData);\n",
       "\n",
       "let simulation = d3\n",
       "    .forceSimulation(graphData.nodes)\n",
       "    .force(\"charge\", d3.forceManyBody().strength(-30))\n",
       "    .force(\"center\", d3.forceCenter(width / 2, height / 2))\n",
       "    .force(\n",
       "      \"link\",\n",
       "      d3.forceLink(graphData.links).id((d) => d.name)\n",
       "    )\n",
       "    .on(\"tick\", ticked);\n",
       "\n",
       "let drag = d3\n",
       "    .drag()\n",
       "    .on(\"start\", dragstarted)\n",
       "    .on(\"drag\", dragged)\n",
       "    .on(\"end\", dragended);\n",
       "\n",
       "let links = svg\n",
       "    .append(\"g\")\n",
       "    .selectAll(\"line\")\n",
       "    .data(graphData.links)\n",
       "    .enter()\n",
       "    .append(\"line\")\n",
       "    .attr(\"stroke-width\", 3)\n",
       "    .style(\"stroke\", \"orange\");\n",
       "\n",
       "let textAndNodes = svg\n",
       "    .append(\"g\")\n",
       "    .selectAll(\"g\")\n",
       "    .data(graphData.nodes)\n",
       "    .enter()\n",
       "    .append(\"g\")\n",
       "    .call(drag);\n",
       "\n",
       "let circles = textAndNodes\n",
       "    .append(\"circle\")\n",
       "    .attr(\"r\", 5)\n",
       "    .attr(\"fill\", \"red\")\n",
       "    .attr(\"id\", (d) => {\n",
       "      return d.name;\n",
       "    });\n",
       "\n",
       "let texts = textAndNodes.append(\"text\").text((d) => d.name);\n",
       "\n",
       "function ticked() {\n",
       "    textAndNodes.attr(\n",
       "      \"transform\",\n",
       "      (d) => \"translate(\" + d.x + \", \" + d.y + \")\"\n",
       "    );\n",
       "\n",
       "    links\n",
       "      .attr(\"x1\", function (d) {\n",
       "        return d.source.x;\n",
       "      })\n",
       "      .attr(\"y1\", function (d) {\n",
       "        return d.source.y;\n",
       "      })\n",
       "      .attr(\"x2\", function (d) {\n",
       "        return d.target.x;\n",
       "      })\n",
       "      .attr(\"y2\", function (d) {\n",
       "        return d.target.y;\n",
       "      });\n",
       "  }\n",
       "\n",
       "function dragstarted(d) {\n",
       "    simulation.alphaTarget(0.3).restart();\n",
       "    d.fx = d3.event.x;\n",
       "    d.fy = d3.event.y;\n",
       "  }\n",
       "function dragged(d) {\n",
       "    d.fx = d3.event.x;\n",
       "    d.fy = d3.event.y;\n",
       "  }\n",
       "\n",
       "function dragended(d) {\n",
       "    simulation.alphaTarget(0);\n",
       "    d.fx = null;\n",
       "    d.fy = null;\n",
       "  }\n",
       "\n",
       "for (const node of graphData.nodes) {\n",
       "    const nodeElement = document.getElementById(node.name);\n",
       "    nodeElement.addEventListener(\"click\", function () {\n",
       "      console.log(`Click on ${nodeElement.id}`);\n",
       "      postToServer(nodeElement.id);\n",
       "    });\n",
       "  }\n",
       "\n",
       "async function postToServer(nodeId) {\n",
       "    try {\n",
       "      await fetch(\"http://localhost:3000/click\", {\n",
       "        method: \"POST\",\n",
       "        headers: {\n",
       "          \"Content-Type\": \"application/json\",\n",
       "        },\n",
       "        body: JSON.stringify({ event: \"click\", nodeId: nodeId }),\n",
       "      });\n",
       "    } catch (error) {\n",
       "      console.error(error);\n",
       "    }\n",
       "  }\n",
       "\n",
       "});\n",
       "</script>"
      ]
     },
     "metadata": {},
     "output_type": "display_data"
    }
   ],
   "source": [
    "odin.draw_plot(adjacency_list)"
   ]
  },
  {
   "cell_type": "code",
   "execution_count": 6,
   "id": "99ecdabb",
   "metadata": {},
   "outputs": [
    {
     "name": "stdout",
     "output_type": "stream",
     "text": [
      "<Response [200]>\n",
      "{'ok': 'GET request success!'}\n"
     ]
    }
   ],
   "source": [
    "odin.request_demo()"
   ]
  },
  {
   "cell_type": "code",
   "execution_count": null,
   "id": "36c7fd8e",
   "metadata": {},
   "outputs": [],
   "source": []
  }
 ],
 "metadata": {
  "kernelspec": {
   "display_name": "Python 3 (ipykernel)",
   "language": "python",
   "name": "python3"
  },
  "language_info": {
   "codemirror_mode": {
    "name": "ipython",
    "version": 3
   },
   "file_extension": ".py",
   "mimetype": "text/x-python",
   "name": "python",
   "nbconvert_exporter": "python",
   "pygments_lexer": "ipython3",
   "version": "3.10.13"
  }
 },
 "nbformat": 4,
 "nbformat_minor": 5
}
