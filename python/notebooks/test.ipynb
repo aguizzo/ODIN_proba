{
 "cells": [
  {
   "cell_type": "code",
   "execution_count": 1,
   "id": "65c64fff",
   "metadata": {},
   "outputs": [],
   "source": [
    "import sys\n",
    "sys.path.append('..\\\\src\\\\')"
   ]
  },
  {
   "cell_type": "code",
   "execution_count": 2,
   "id": "ed9bcd18",
   "metadata": {},
   "outputs": [],
   "source": [
    "from odin_notebook import OdinNotebook"
   ]
  },
  {
   "cell_type": "code",
   "execution_count": 3,
   "id": "7c4eb979",
   "metadata": {},
   "outputs": [],
   "source": [
    "odin = OdinNotebook()\n",
    "adjacency_list = [\n",
    "    [1, 2],  # adjacent to vertex 0\n",
    "    [0, 2, 3],  # adjacent to vertex 1\n",
    "    [0, 1, 3],  # adjacent to vertex 2\n",
    "    [1, 2]  # adjacent to vertex 3\n",
    "]"
   ]
  }
 ],
 "metadata": {
  "kernelspec": {
   "display_name": "Python 3 (ipykernel)",
   "language": "python",
   "name": "python3"
  },
  "language_info": {
   "codemirror_mode": {
    "name": "ipython",
    "version": 3
   },
   "file_extension": ".py",
   "mimetype": "text/x-python",
   "name": "python",
   "nbconvert_exporter": "python",
   "pygments_lexer": "ipython3",
   "version": "3.10.13"
  }
 },
 "nbformat": 4,
 "nbformat_minor": 5
}
